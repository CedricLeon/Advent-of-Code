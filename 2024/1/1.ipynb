{
 "cells": [
  {
   "cell_type": "markdown",
   "metadata": {},
   "source": [
    "# Challenge 01/12/2024\n",
    "\n",
    "[Link to challenge instructions](https://adventofcode.com/2024/day/1)\n",
    "\n",
    "### Highlights & Notes\n",
    "\n",
    "- Cool story bro\n",
    "- Goal: sort 2 lists, calculate absolute distances between each pair and sum the total\n"
   ]
  },
  {
   "cell_type": "markdown",
   "metadata": {},
   "source": [
    "### Setup & Imports\n"
   ]
  },
  {
   "cell_type": "code",
   "execution_count": null,
   "metadata": {},
   "outputs": [],
   "source": [
    "import numpy as np\n",
    "import sys\n",
    "import os\n",
    "\n",
    "# Get utility functions\n",
    "sys.path.append(os.path.abspath('../utils'))\n",
    "from utils import read_input_file, remove_newline_char, split_lines"
   ]
  },
  {
   "cell_type": "markdown",
   "metadata": {},
   "source": [
    "## Part 1\n"
   ]
  },
  {
   "cell_type": "code",
   "execution_count": 2,
   "metadata": {},
   "outputs": [
    {
     "name": "stdout",
     "output_type": "stream",
     "text": [
      "2580760\n"
     ]
    }
   ],
   "source": [
    "listLines = split_lines(remove_newline_char(read_input_file(\"input.txt\")), \"   \")\n",
    "\n",
    "list1 = []\n",
    "list2 = []\n",
    "for line in listLines:\n",
    "    list1.append(line[0])\n",
    "    list2.append(line[1])\n",
    "\n",
    "sortedList1 = sorted(list1)\n",
    "sortedList2 = sorted(list2)\n",
    "\n",
    "absDistanceList = [abs(int(a) - int(b)) for a, b in zip(sortedList1, sortedList2)]\n",
    "totalDistance = np.sum(absDistanceList)\n",
    "print(totalDistance)"
   ]
  },
  {
   "cell_type": "markdown",
   "metadata": {},
   "source": [
    "### Alternative solution: Copilot\n",
    "\n",
    "One can also use arrays instead of lists for easier manipulation\n"
   ]
  },
  {
   "cell_type": "code",
   "execution_count": 3,
   "metadata": {},
   "outputs": [],
   "source": [
    "# # Read and process the input file\n",
    "# listLines = split_lines(remove_newline_char(read_input_file(\"demo.txt\")), \"   \")\n",
    "\n",
    "# # Convert the lines to a NumPy array for easier manipulation\n",
    "# data = np.array(listLines, dtype=int)\n",
    "\n",
    "# # Sort the columns\n",
    "# sorted_data = np.sort(data, axis=0)\n",
    "\n",
    "# # Calculate the absolute differences and sum them\n",
    "# abs_distance_list = np.abs(sorted_data[:, 0] - sorted_data[:, 1])\n",
    "# total_distance = np.sum(abs_distance_list)\n",
    "\n",
    "# print(total_distance)"
   ]
  },
  {
   "cell_type": "markdown",
   "metadata": {},
   "source": [
    "## Part 2\n",
    "\n",
    "Instructions [here](https://adventofcode.com/2024/day/1#part2)\n"
   ]
  },
  {
   "cell_type": "code",
   "execution_count": 4,
   "metadata": {},
   "outputs": [
    {
     "name": "stdout",
     "output_type": "stream",
     "text": [
      "25358365\n"
     ]
    }
   ],
   "source": [
    "# Calculate the similaroty score: for each item of the (unsorted) list 1,\n",
    "# count how many times it appears in list 2,\n",
    "# multiply the number and its number of apparition\n",
    "# and sum it to the total distance\n",
    "\n",
    "similarityScore = 0\n",
    "for id in list1:\n",
    "    similarityScore += list2.count(id) * int(id)\n",
    "\n",
    "print(similarityScore)"
   ]
  }
 ],
 "metadata": {
  "kernelspec": {
   "display_name": "mess",
   "language": "python",
   "name": "python3"
  },
  "language_info": {
   "codemirror_mode": {
    "name": "ipython",
    "version": 3
   },
   "file_extension": ".py",
   "mimetype": "text/x-python",
   "name": "python",
   "nbconvert_exporter": "python",
   "pygments_lexer": "ipython3",
   "version": "3.10.0"
  }
 },
 "nbformat": 4,
 "nbformat_minor": 2
}
