{
 "cells": [
  {
   "cell_type": "markdown",
   "metadata": {},
   "source": [
    "# Challenge 13/12/2024\n",
    "\n",
    "Challenge instructions [here](https://adventofcode.com/2024/day/13)\n",
    "\n",
    "## Highlights & Notes\n",
    "\n",
    "- Goal: Solve a serie of linear equations\n"
   ]
  },
  {
   "cell_type": "markdown",
   "metadata": {},
   "source": [
    "## Setup & Imports\n"
   ]
  },
  {
   "cell_type": "code",
   "execution_count": 1,
   "metadata": {},
   "outputs": [],
   "source": [
    "import numpy as np\n",
    "import sys\n",
    "import os\n",
    "\n",
    "# Get utility functions\n",
    "sys.path.append(os.path.abspath('../utils'))\n",
    "from utils import read_input_file, remove_newline_char, split_lines\n",
    "\n",
    "# Quick ANSI color code shortcuts\n",
    "r = \"\\033[31m\";y = \"\\033[33m\";g = \"\\033[32m\";b = \"\\033[34m\";e = \"\\033[0m\""
   ]
  },
  {
   "cell_type": "markdown",
   "metadata": {},
   "source": [
    "## Part 1\n"
   ]
  },
  {
   "cell_type": "code",
   "execution_count": 3,
   "metadata": {},
   "outputs": [
    {
     "name": "stdout",
     "output_type": "stream",
     "text": [
      "{a: 1, b: 0}\n",
      "{a: 1, b: 0}\n",
      "{a: 1, b: 0}\n",
      "{a: 1, b: 0}\n"
     ]
    }
   ],
   "source": [
    "from sympy import Symbol\n",
    "from sympy.solvers import solve\n",
    "\n",
    "def read_input(filename):\n",
    "    lines = open(filename, 'r').read()\n",
    "    puzzleInput = []\n",
    "\n",
    "    for machine in lines.split('\\n\\n'):\n",
    "        machineLines = machine.split('\\n')\n",
    "        buttonAdesc = machineLines[0].split(':')[1].strip().split(',')\n",
    "        buttonA = (int(buttonAdesc[0].strip()[1:]), int(buttonAdesc[1].strip()[1:]))\n",
    "        buttonBdesc = machineLines[1].split(':')[1].strip().split(',')\n",
    "        buttonB = (int(buttonBdesc[0].strip()[1:]), int(buttonBdesc[1].strip()[1:]))\n",
    "        prizeDesc = machineLines[0].split(':')[1].strip().split(',')\n",
    "        prize = (int(prizeDesc[0].strip()[1:]), int(prizeDesc[1].strip()[1:]))\n",
    "        puzzleInput.append({'a': buttonA, 'b': buttonB, 'prize': prize})\n",
    "    \n",
    "    return puzzleInput\n",
    "\n",
    "puzzleInput = read_input(\"demo.txt\")\n",
    "\n",
    "a = Symbol('a')\n",
    "b = Symbol('b')\n",
    "result = 0\n",
    "for machine in puzzleInput:\n",
    "    solution = solve([a * machine['a'][0] + b * machine['b'][0] - machine['prize'][0],\n",
    "                           a * machine['a'][1] + b * machine['b'][1] - machine['prize'][1]])\n",
    "    print(solution)"
   ]
  },
  {
   "cell_type": "markdown",
   "metadata": {},
   "source": [
    "## Part 2\n",
    "\n",
    "Instructions [here](https://adventofcode.com/2024/day/2#part2)\n"
   ]
  },
  {
   "cell_type": "code",
   "execution_count": null,
   "metadata": {},
   "outputs": [],
   "source": [
    "def world_hello():\n",
    "    print(\"World, Hello!\")"
   ]
  }
 ],
 "metadata": {
  "kernelspec": {
   "display_name": "mess",
   "language": "python",
   "name": "python3"
  },
  "language_info": {
   "codemirror_mode": {
    "name": "ipython",
    "version": 3
   },
   "file_extension": ".py",
   "mimetype": "text/x-python",
   "name": "python",
   "nbconvert_exporter": "python",
   "pygments_lexer": "ipython3",
   "version": "3.10.0"
  }
 },
 "nbformat": 4,
 "nbformat_minor": 2
}
