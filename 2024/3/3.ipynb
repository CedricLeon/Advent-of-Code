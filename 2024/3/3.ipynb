{
 "cells": [
  {
   "cell_type": "markdown",
   "metadata": {},
   "source": [
    "# Challenge 03/12/2024\n",
    "\n",
    "Challenge instructions [here](https://adventofcode.com/2024/day/3)\n",
    "\n",
    "## Highlights & Notes\n",
    "\n",
    "- Goal: Parse a string to identify `mul(X,Y)` patterns where `X` and `Y` are 1 to 3 digits number\n",
    "- Note: That's a job for REGEEEEEEEX (it's 9pm, I'm tired 🙃), Billa shared this nice post/tutorial about [Python Regular Expressions](https://developers.google.com/edu/python/regular-expressions)\n",
    "\n",
    "## Python REGEX Tips\n",
    "\n",
    "- `re.search(pattern, string)` is the basic function, it finds the first match of `pattern` in `string`.\n",
    "- Good habit to use Python raw strings for the pattern, i.e., `r\"my_pattern\"`\n",
    "- The basic patterns used with `+`, `*` or `?`, that allow to check for multiple occurences of a pattern, already provide a really good base.\n",
    "- `findall()` is probably the single most powerful function in the re module, it does exactly what its name says and even work on whole files (without having to loop over the lines)\n",
    "- The \"group\" feature allows to pick out parts of the matching text using `match.group(<group_number>)`\n"
   ]
  },
  {
   "cell_type": "markdown",
   "metadata": {},
   "source": [
    "## Setup & Imports\n"
   ]
  },
  {
   "cell_type": "code",
   "execution_count": 1,
   "metadata": {},
   "outputs": [],
   "source": [
    "import numpy as np\n",
    "import sys\n",
    "import os\n",
    "import re\n",
    "\n",
    "# Get utility functions\n",
    "sys.path.append(os.path.abspath('../utils'))\n",
    "from utils import read_input_file, remove_newline_char, split_lines\n",
    "\n",
    "# Quick ANSI color code shortcuts\n",
    "r = \"\\033[31m\";y = \"\\033[33m\";g = \"\\033[32m\";b = \"\\033[34m\";e = \"\\033[0m\""
   ]
  },
  {
   "cell_type": "markdown",
   "metadata": {},
   "source": [
    "## Part 1\n"
   ]
  },
  {
   "cell_type": "code",
   "execution_count": 50,
   "metadata": {},
   "outputs": [
    {
     "name": "stdout",
     "output_type": "stream",
     "text": [
      "Sum of all multiplications: 175015740\n"
     ]
    },
    {
     "name": "stderr",
     "output_type": "stream",
     "text": [
      "C:\\Users\\leon_ce\\AppData\\Local\\Temp\\ipykernel_19708\\3357331378.py:4: DeprecationWarning: Calling np.sum(generator) is deprecated, and in the future will give a different result. Use np.sum(np.fromiter(generator)) or the python sum builtin instead.\n",
      "  return np.sum(int(x) * int(y) for x, y in mul_tuples)\n"
     ]
    }
   ],
   "source": [
    "def compute_multiplications(mul_tuples):\n",
    "    # using the built-in sum function produces an \"'int' object is not callable\" error\n",
    "    # and np.sum() is deprecated\n",
    "    return np.sum(int(x) * int(y) for x, y in mul_tuples)\n",
    "\n",
    "file = open('input.txt', 'r')\n",
    "# I use () to capture the two numbers in the multiplication\n",
    "multiplications = re.findall(r'mul\\((\\d+),(\\d+)\\)', file.read())\n",
    "file.close()\n",
    "\n",
    "total = compute_multiplications(multiplications)\n",
    "print(f\"Sum of all multiplications: {sum}\")"
   ]
  },
  {
   "cell_type": "markdown",
   "metadata": {},
   "source": [
    "## Part 2\n",
    "\n",
    "Instructions [here](https://adventofcode.com/2024/day/3#part2)\n",
    "\n",
    "### My personal solution (Fails)\n"
   ]
  },
  {
   "cell_type": "code",
   "execution_count": 51,
   "metadata": {},
   "outputs": [
    {
     "name": "stdout",
     "output_type": "stream",
     "text": [
      "Sum of all multiplications: 71793445\n"
     ]
    },
    {
     "name": "stderr",
     "output_type": "stream",
     "text": [
      "C:\\Users\\leon_ce\\AppData\\Local\\Temp\\ipykernel_19708\\3357331378.py:4: DeprecationWarning: Calling np.sum(generator) is deprecated, and in the future will give a different result. Use np.sum(np.fromiter(generator)) or the python sum builtin instead.\n",
      "  return np.sum(int(x) * int(y) for x, y in mul_tuples)\n"
     ]
    }
   ],
   "source": [
    "file = open('input.txt', 'r')\n",
    "# Multiplications are enable at the beginning, so I search for the first `don't()`\n",
    "# and \"remove it\" from th input to compute it separately\n",
    "donts = re.split(r\"don\\'t\\(\\)\", file.read(), maxsplit=1)\n",
    "sum = compute_multiplications(re.findall(r'mul\\((\\d+),(\\d+)\\)', donts[0]))\n",
    "# I use `.+?` to match any character from `do()` until the first `don't()`\n",
    "allEnabled = re.findall(r\"do\\(\\).+?don\\'t\\(\\)\", donts[1])\n",
    "for enabled in allEnabled:\n",
    "    multiplications = re.findall(r'mul\\((\\d+),(\\d+)\\)', enabled)\n",
    "    sum += compute_multiplications(multiplications)\n",
    "print(f\"Sum of all multiplications: {sum}\")\n",
    "file.close()"
   ]
  },
  {
   "cell_type": "markdown",
   "metadata": {},
   "source": [
    "### o1-preview solution\n"
   ]
  },
  {
   "cell_type": "code",
   "execution_count": null,
   "metadata": {},
   "outputs": [
    {
     "name": "stdout",
     "output_type": "stream",
     "text": [
      "Sum of all enabled multiplications: 112272912\n"
     ]
    }
   ],
   "source": [
    "# Read the input file\n",
    "with open('input.txt', 'r') as file:\n",
    "    content = file.read()\n",
    "\n",
    "# Pattern to match 'do()', \"don't()\", and valid 'mul' instructions\n",
    "pattern = re.compile(r\"do\\(\\)|don't\\(\\)|mul\\(\\d{1,3},\\d{1,3}\\)\")\n",
    "\n",
    "enabled = True\n",
    "total_sum = 0\n",
    "\n",
    "# Iterate over all matches in the content\n",
    "for match in pattern.finditer(content):\n",
    "    token = match.group()\n",
    "    if 'do()' in token:\n",
    "        enabled = True\n",
    "    elif \"don't()\" in token:\n",
    "        enabled = False\n",
    "    elif token.startswith('mul(') and enabled:\n",
    "        # Extract the numbers and compute the multiplication\n",
    "        x, y = map(int, re.findall(r'\\d+', token))\n",
    "        total_sum += x * y\n",
    "\n",
    "print(f\"Sum of all enabled multiplications: {total_sum}\")"
   ]
  }
 ],
 "metadata": {
  "kernelspec": {
   "display_name": "mess",
   "language": "python",
   "name": "python3"
  },
  "language_info": {
   "codemirror_mode": {
    "name": "ipython",
    "version": 3
   },
   "file_extension": ".py",
   "mimetype": "text/x-python",
   "name": "python",
   "nbconvert_exporter": "python",
   "pygments_lexer": "ipython3",
   "version": "3.10.0"
  }
 },
 "nbformat": 4,
 "nbformat_minor": 2
}
