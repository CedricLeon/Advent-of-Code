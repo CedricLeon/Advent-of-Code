{
 "cells": [
  {
   "cell_type": "markdown",
   "metadata": {},
   "source": [
    "# Challenge 02/12/2024\n",
    "\n",
    "Challenge instructions [here](https://adventofcode.com/2024/day/2)\n",
    "\n",
    "## Highlights & Notes\n",
    "\n",
    "- Data: List of reports (lines) with different levels (columns)\n",
    "- Goal: find the number of safe reports.\n",
    "  - A report is safe if its level are gradually increasing or decreasing\n",
    "  - Gradually means the difference is at least 1, at most 3\n",
    "- Additional info: reports can have different number of levels\n"
   ]
  },
  {
   "cell_type": "markdown",
   "metadata": {},
   "source": [
    "## Setup & Imports\n"
   ]
  },
  {
   "cell_type": "code",
   "execution_count": 6,
   "metadata": {},
   "outputs": [],
   "source": [
    "import numpy as np\n",
    "import sys\n",
    "import os\n",
    "\n",
    "\n",
    "# Get utility functions\n",
    "sys.path.append(os.path.abspath('../utils'))\n",
    "from utils import read_input_file, remove_newline_char, split_lines\n",
    "\n",
    "# Setup logging\n",
    "# Quick ANSI color code shortcuts\n",
    "r = \"\\033[31m\";y = \"\\033[33m\";g = \"\\033[32m\";b = \"\\033[34m\";e = \"\\033[0m\""
   ]
  },
  {
   "cell_type": "markdown",
   "metadata": {},
   "source": [
    "## Part 1\n"
   ]
  },
  {
   "cell_type": "code",
   "execution_count": 7,
   "metadata": {},
   "outputs": [
    {
     "name": "stdout",
     "output_type": "stream",
     "text": [
      "Testing with: INPUT\n"
     ]
    }
   ],
   "source": [
    "demo = False\n",
    "reportsList = remove_newline_char(read_input_file('demo.txt' if demo else 'input.txt'))\n",
    "print(f\"Testing with: {'DEMO' if demo else 'INPUT'}\")"
   ]
  },
  {
   "cell_type": "code",
   "execution_count": 8,
   "metadata": {},
   "outputs": [],
   "source": [
    "def levels_are_too_far(isIncreasing: bool, diff: int, lowerBound:int = 1, upperBound: int = 3):\n",
    "    if isIncreasing:\n",
    "        return (diff < lowerBound or diff > upperBound)\n",
    "    else:\n",
    "        return (diff > -lowerBound or diff < -upperBound)\n",
    "    \n",
    "def is_report_safe(levels):\n",
    "    isIncreasing = (int(levels[0]) - int(levels[1])) < 0\n",
    "    previous = levels[0]\n",
    "    for level in levels[1:]:\n",
    "        diff = int(level) - int(previous)\n",
    "        if levels_are_too_far(isIncreasing, diff, 1, 3):\n",
    "            return False\n",
    "        previous = level\n",
    "    return True\n"
   ]
  },
  {
   "cell_type": "code",
   "execution_count": 9,
   "metadata": {},
   "outputs": [
    {
     "name": "stdout",
     "output_type": "stream",
     "text": [
      "Number of safe reports: 639\n"
     ]
    }
   ],
   "source": [
    "nbSafeReports = 0\n",
    "for report in reportsList:\n",
    "    safe = True\n",
    "    levels = report.split(' ')\n",
    "\n",
    "    safe = is_report_safe(levels)\n",
    "    if safe:\n",
    "        nbSafeReports += 1\n",
    "print(f\"Number of safe reports: {nbSafeReports}\")\n"
   ]
  },
  {
   "cell_type": "markdown",
   "metadata": {},
   "source": [
    "## Part 2\n",
    "\n",
    "Instructions [here](https://adventofcode.com/2024/day/2#part2)\n"
   ]
  },
  {
   "cell_type": "code",
   "execution_count": null,
   "metadata": {},
   "outputs": [
    {
     "name": "stdout",
     "output_type": "stream",
     "text": [
      "Without Problem Dampener: 639\n",
      "With Problem Dampener: 674\n"
     ]
    }
   ],
   "source": [
    "# This time, save the reports that are not safe\n",
    "nbSafeReports = 0\n",
    "listUnsafeReports = []\n",
    "for report in reportsList:\n",
    "    safe = True\n",
    "    levels = report.split(' ')\n",
    "\n",
    "    safe = is_report_safe(levels)\n",
    "    if safe:\n",
    "        # print(f\"Safe: {report}\")\n",
    "        nbSafeReports += 1\n",
    "    else:\n",
    "        listUnsafeReports.append(levels)\n",
    "        # print(f\"Not safe: {report}\")\n",
    "print(f\"Without Problem Dampener: {nbSafeReports}\")\n",
    "\n",
    "# Brutforce try to remove all levels one by one and check if the report is safe\n",
    "for levels in listUnsafeReports:\n",
    "    for i in range(len(levels)):\n",
    "        temp_levels = levels[:i] + levels[i+1:]  # create a copy of the list without the current element\n",
    "        safe = is_report_safe(temp_levels)\n",
    "        if safe:\n",
    "            # print(f\"Problem Dampener, {i}: {temp_levels}\")\n",
    "            nbSafeReports += 1\n",
    "            break\n",
    "\n",
    "print(f\"With Problem Dampener: {nbSafeReports}\")\n"
   ]
  },
  {
   "cell_type": "markdown",
   "metadata": {},
   "source": [
    "## The \"smart\" way ... that did not work\n"
   ]
  },
  {
   "cell_type": "code",
   "execution_count": 11,
   "metadata": {},
   "outputs": [
    {
     "name": "stdout",
     "output_type": "stream",
     "text": [
      "Checking: 22 25 27 28 30 31 32 29\n",
      "Checking: 72 74 75 77 80 81 81\n",
      "Checking: 52 53 55 58 59 63\n",
      "Checking: 14 17 19 22 27\n",
      "Checking: 65 68 67 68 71 73 76 77\n",
      "Unsolvable break point detected: 68 -> 67 -> 68\n",
      "Checking: 53 56 53 55 54\n",
      "Unsolvable break point detected: 56 -> 53 -> 55\n",
      "Checking: 60 62 59 62 62\n",
      "Unsolvable break point detected: 62 -> 59 -> 62\n",
      "Checking: 27 30 28 31 32 35 39\n",
      "Unsolvable break point detected: 30 -> 32 -> 35\n",
      "Checking: 64 67 68 71 74 71 74 81\n",
      "Unsolvable break point detected: 74 -> 71 -> 74\n",
      "Checking: 29 32 32 33 36 39 40\n",
      "Unsolvable break point detected: 32 -> 33 -> 36\n",
      "Number of safe reports: 4\n"
     ]
    }
   ],
   "source": [
    "nbSafeReports = 0\n",
    "for report in reportsList[:10]:\n",
    "    safe = True\n",
    "    levels = report.split(' ')\n",
    "\n",
    "    isIncreasing = (int(levels[0]) - int(levels[1])) < 0\n",
    "    previous = levels[0]\n",
    "\n",
    "    preprevious = None\n",
    "    problemDampener = False # unused\n",
    "\n",
    "    print(f\"Checking: {report}\")\n",
    "    for i, level in enumerate(levels[1:]):\n",
    "        # If a break point was detected, check if removing it would make the report safe\n",
    "        if preprevious is not None:\n",
    "            diffWithoutBreakPoint = int(level) - int(preprevious)\n",
    "            if levels_are_too_far(isIncreasing, diffWithoutBreakPoint, 1, 3):\n",
    "                print(f\"Unsolvable break point detected: {preprevious} -> {previous} -> {level}\")\n",
    "                safe = False\n",
    "                break\n",
    "            # If the report is safe without the reak point, mark the problem dampener as used (unique usage)\n",
    "            else:\n",
    "                problemDampener = True\n",
    "\n",
    "        diff = int(level) - int(previous)\n",
    "        if levels_are_too_far(isIncreasing, diff, 1, 3):\n",
    "            if problemDampener:\n",
    "                safe = False\n",
    "                break\n",
    "            else: preprevious = previous\n",
    "        previous = level\n",
    "    \n",
    "    if safe:\n",
    "        nbSafeReports += 1\n",
    "print(f\"Number of safe reports: {nbSafeReports}\")\n"
   ]
  }
 ],
 "metadata": {
  "kernelspec": {
   "display_name": "mess",
   "language": "python",
   "name": "python3"
  },
  "language_info": {
   "codemirror_mode": {
    "name": "ipython",
    "version": 3
   },
   "file_extension": ".py",
   "mimetype": "text/x-python",
   "name": "python",
   "nbconvert_exporter": "python",
   "pygments_lexer": "ipython3",
   "version": "3.10.0"
  }
 },
 "nbformat": 4,
 "nbformat_minor": 2
}
