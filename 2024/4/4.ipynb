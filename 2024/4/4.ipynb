{
 "cells": [
  {
   "cell_type": "markdown",
   "metadata": {},
   "source": [
    "# Challenge 04/12/2024\n",
    "\n",
    "Challenge instructions [here](https://adventofcode.com/2024/day/4)\n",
    "\n",
    "## Highlights & Notes\n",
    "\n",
    "- Goal: Find the number of occurences of a list of string \"XMAS\". The word can be written vertical, horizontal in diagonal and backwards. It can overlapp with other words.\n",
    "- Each `DEMO` line is 10 character wide and `INPUT` 140. there are as many lines as character per line.\n"
   ]
  },
  {
   "cell_type": "markdown",
   "metadata": {},
   "source": [
    "## Setup & Imports\n"
   ]
  },
  {
   "cell_type": "code",
   "execution_count": 1,
   "metadata": {},
   "outputs": [],
   "source": [
    "import numpy as np\n",
    "import sys\n",
    "import os\n",
    "import re\n",
    "\n",
    "# Get utility functions\n",
    "sys.path.append(os.path.abspath('../utils'))\n",
    "from utils import read_input_file, remove_newline_char, split_lines\n",
    "\n",
    "# Quick ANSI color code shortcuts\n",
    "r = \"\\033[31m\";y = \"\\033[33m\";g = \"\\033[32m\";b = \"\\033[34m\";e = \"\\033[0m\""
   ]
  },
  {
   "cell_type": "markdown",
   "metadata": {},
   "source": [
    "## Part 1\n"
   ]
  },
  {
   "cell_type": "code",
   "execution_count": 25,
   "metadata": {},
   "outputs": [],
   "source": [
    "def invert_lines(lines):\n",
    "    return [line[::-1] for line in lines]\n",
    "\n",
    "def get_nb_occurences(lines, pattern = r\"XMAS\"):\n",
    "    occurences = 0\n",
    "    for line in lines:\n",
    "        occurences += len(re.findall(pattern, line))\n",
    "    return occurences\n",
    "\n",
    "def reshape_vertical(lines):\n",
    "    vertical_lines = []\n",
    "    for i in range(len(lines[0])):\n",
    "        vertical_line = ''.join([line[i] for line in lines])\n",
    "        vertical_lines.append(vertical_line)\n",
    "    return vertical_lines\n",
    "    # Equivalent to:\n",
    "    # return [\"\".join([line[i] for line in lines]) for i in range(len(lines[0]))]\n",
    "\n",
    "def reshape_diagonal_tl_br(lines):\n",
    "    diagonalLines = []\n",
    "    rows, cols = len(lines), len(lines[0])\n",
    "    for p in range(rows + cols - 1):\n",
    "        diagonalLine = []\n",
    "        for i in range(max(p - cols + 1, 0), min(p + 1, rows)):\n",
    "            diagonalLine.append(lines[i][p - i])\n",
    "        diagonalLines.append(''.join(diagonalLine))\n",
    "    return diagonalLines\n",
    "\n",
    "def reshape_diagonal_tr_bl(lines):\n",
    "    diagonalLines = []\n",
    "    rows, cols = len(lines), len(lines[0])\n",
    "    for p in range(rows + cols - 1):\n",
    "        diagonalLine = []\n",
    "        for i in range(max(0, p - cols + 1), min(rows, p + 1)):\n",
    "            j = cols - 1 - (p - i)\n",
    "            diagonalLine.append(lines[i][j])\n",
    "        diagonalLines.append(''.join(diagonalLine))\n",
    "    return diagonalLines\n",
    "    "
   ]
  },
  {
   "cell_type": "code",
   "execution_count": 26,
   "metadata": {},
   "outputs": [
    {
     "name": "stdout",
     "output_type": "stream",
     "text": [
      "Horizontal forward: 222, Horizontal backward: 221\n",
      "Vertical down: 200, Vertical up: 237\n",
      "Top-left to bottom-right: 371, Bottom-right to top-left: 435\n",
      "Top-right to bottom-left: 384, Bottom-left to top-right: 451\n",
      "Total occurences so far: 2521\n"
     ]
    }
   ],
   "source": [
    "# Get all lines of the input file\n",
    "originalLines = remove_newline_char(read_input_file(\"input.txt\"))\n",
    "\n",
    "allDirections = ['h', 'v', 'tlbr', 'trbl']\n",
    "total = 0\n",
    "for dir in allDirections:\n",
    "    if dir == 'h':\n",
    "        hf = get_nb_occurences(originalLines)\n",
    "        hbLines = invert_lines(originalLines)\n",
    "        hb = get_nb_occurences(hbLines)\n",
    "        print(f\"Horizontal forward: {hf}, Horizontal backward: {hb}\")\n",
    "        total += hf + hb\n",
    "    elif dir == 'v':\n",
    "        verticalLines = reshape_vertical(originalLines)\n",
    "        vd = get_nb_occurences(verticalLines)\n",
    "        backwardLines = invert_lines(verticalLines)\n",
    "        vu = get_nb_occurences(backwardLines)\n",
    "        print(f\"Vertical down: {vd}, Vertical up: {vu}\")\n",
    "        total += vd + vu\n",
    "    elif dir == 'tlbr':\n",
    "        tlBrLines = reshape_diagonal_tl_br(originalLines)\n",
    "        tlbr = get_nb_occurences(tlBrLines)\n",
    "        brTlLines = invert_lines(tlBrLines)\n",
    "        brtl = get_nb_occurences(brTlLines)\n",
    "        print(f\"Top-left to bottom-right: {tlbr}, Bottom-right to top-left: {brtl}\")\n",
    "        total += tlbr + brtl\n",
    "    elif dir == 'trbl':\n",
    "        trBlLines = reshape_diagonal_tr_bl(originalLines)\n",
    "        trbl = get_nb_occurences(trBlLines)\n",
    "        blTrLines = invert_lines(trBlLines)\n",
    "        bltr = get_nb_occurences(blTrLines)\n",
    "        print(f\"Top-right to bottom-left: {trbl}, Bottom-left to top-right: {bltr}\")\n",
    "        total += trbl + bltr\n",
    "print(f\"Total occurences so far: {total}\")"
   ]
  },
  {
   "cell_type": "markdown",
   "metadata": {},
   "source": [
    "## Part 2\n",
    "\n",
    "Instructions [here](https://adventofcode.com/2024/day/2#part2)\n"
   ]
  },
  {
   "cell_type": "code",
   "execution_count": 35,
   "metadata": {},
   "outputs": [
    {
     "name": "stdout",
     "output_type": "stream",
     "text": [
      "Number of X-MAS patterns: 1912\n"
     ]
    }
   ],
   "source": [
    "def is_mas(x, y):\n",
    "    return (x == 'M' and y == 'S') or (x == 'S' and y == 'M')\n",
    "\n",
    "def is_xmas_at(grid, i, j):\n",
    "    rows, cols = len(grid), len(grid[0])\n",
    "    try:\n",
    "        # Check the center 'A'\n",
    "        if grid[i][j] != 'A':\n",
    "            return False\n",
    "        # Check the four arms of the 'X' shape\n",
    "        return is_mas(grid[i-1][j-1], grid[i+1][j+1]) and is_mas(grid[i-1][j+1], grid[i+1][j-1])\n",
    "    except IndexError:\n",
    "        return False\n",
    "\n",
    "grid = originalLines\n",
    "count = 0\n",
    "for i in range(1, len(grid)):\n",
    "    for j in range(1, len(grid[0])):\n",
    "        if is_xmas_at(grid, i, j):\n",
    "            count += 1\n",
    "\n",
    "print(f\"Number of X-MAS patterns: {count}\")"
   ]
  }
 ],
 "metadata": {
  "kernelspec": {
   "display_name": "mess",
   "language": "python",
   "name": "python3"
  },
  "language_info": {
   "codemirror_mode": {
    "name": "ipython",
    "version": 3
   },
   "file_extension": ".py",
   "mimetype": "text/x-python",
   "name": "python",
   "nbconvert_exporter": "python",
   "pygments_lexer": "ipython3",
   "version": "3.10.0"
  }
 },
 "nbformat": 4,
 "nbformat_minor": 2
}
