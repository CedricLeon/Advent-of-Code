{
 "cells": [
  {
   "cell_type": "markdown",
   "metadata": {},
   "source": [
    "# Challenge 12/12/2024\n",
    "\n",
    "Challenge instructions [here](https://adventofcode.com/2024/day/12)\n",
    "\n",
    "## Highlights & Notes\n",
    "\n",
    "- **Goal**: Find the total cost of fencing the garden.\n",
    "- The total cost is the sum f the cost of each region\n",
    "- Each region cost is the multiplication of its perimeter and area\n",
    "- The area is the number of symbols in the region\n",
    "- The perimeter is the number of sides of the region\n",
    "\n",
    "Resolution:\n",
    "\n",
    "- Find all independent region\n"
   ]
  },
  {
   "cell_type": "markdown",
   "metadata": {},
   "source": [
    "## Setup & Imports\n"
   ]
  },
  {
   "cell_type": "code",
   "execution_count": 5,
   "metadata": {},
   "outputs": [],
   "source": [
    "import numpy as np\n",
    "import sys\n",
    "import os\n",
    "\n",
    "# Get utility functions\n",
    "sys.path.append(os.path.abspath('../utils'))\n",
    "from utils import read_input_file, remove_newline_char, split_lines\n",
    "\n",
    "# Quick ANSI color code shortcuts\n",
    "r = \"\\033[31m\";y = \"\\033[33m\";g = \"\\033[32m\";b = \"\\033[34m\";e = \"\\033[0m\""
   ]
  },
  {
   "cell_type": "markdown",
   "metadata": {},
   "source": [
    "## Part 1\n"
   ]
  },
  {
   "cell_type": "code",
   "execution_count": 6,
   "metadata": {},
   "outputs": [],
   "source": [
    "from collections import deque\n",
    "\n",
    "def dfs(grid, visited, x, y, symbol):\n",
    "    # Base case: If out of bounds or already visited or not the same symbol\n",
    "    if (x < 0 or x >= len(grid) or\n",
    "        y < 0 or y >= len(grid[0]) or\n",
    "        visited[x][y] or grid[x][y] != symbol):\n",
    "        return 0, 0  # Area, Perimeter\n",
    "\n",
    "    visited[x][y] = True  # Mark the cell as visited\n",
    "    area = 1  # Current cell counts as area\n",
    "    perimeter = 0  # Initialize perimeter for this cell\n",
    "\n",
    "    # Directions: Up, Down, Left, Right\n",
    "    directions = [(-1, 0), (1, 0), (0, -1), (0, 1)]\n",
    "\n",
    "    for dx, dy in directions:\n",
    "        nx, ny = x + dx, y + dy\n",
    "\n",
    "        if (0 <= nx < len(grid) and 0 <= ny < len(grid[0])):\n",
    "            if grid[nx][ny] == symbol:\n",
    "                if not visited[nx][ny]:\n",
    "                    # Recurse into the neighbor cell\n",
    "                    a, p = dfs(grid, visited, nx, ny, symbol)\n",
    "                    area += a\n",
    "                    perimeter += p\n",
    "            else:\n",
    "                # Neighboring cell is different, so this edge contributes to perimeter\n",
    "                perimeter += 1\n",
    "        else:\n",
    "            # Edge of the grid contributes to perimeter\n",
    "            perimeter += 1\n",
    "\n",
    "    return area, perimeter\n",
    "\n",
    "\n",
    "def bfs(grid, visited, x, y, symbol):\n",
    "    queue = deque()\n",
    "    queue.append((x, y))\n",
    "    visited[x][y] = True  # Mark the starting cell as visited\n",
    "    area = 1\n",
    "    perimeter = 0\n",
    "\n",
    "    while queue:\n",
    "        cx, cy = queue.popleft()\n",
    "        \n",
    "        # Number of sides contributing to the perimeter from this cell\n",
    "        cellPerimeter = 0\n",
    "\n",
    "        # Directions: Up, Down, Left, Right\n",
    "        directions = [(-1, 0), (1, 0), (0, -1), (0, 1)]\n",
    "\n",
    "        for dx, dy in directions:\n",
    "            nx, ny = cx + dx, cy + dy\n",
    "\n",
    "            if (0 <= nx < len(grid) and 0 <= ny < len(grid[0])):\n",
    "                if grid[nx][ny] == symbol:\n",
    "                    if not visited[nx][ny]:\n",
    "                        visited[nx][ny] = True\n",
    "                        queue.append((nx, ny))\n",
    "                        area += 1\n",
    "                else:\n",
    "                    # Neighboring cell is different\n",
    "                    cellPerimeter += 1\n",
    "            else:\n",
    "                # Edge of the grid\n",
    "                cellPerimeter += 1\n",
    "        perimeter += cellPerimeter\n",
    "\n",
    "    return area, perimeter"
   ]
  },
  {
   "cell_type": "code",
   "execution_count": 7,
   "metadata": {},
   "outputs": [
    {
     "name": "stdout",
     "output_type": "stream",
     "text": [
      "Total cost: 1473620\n",
      "CPU times: total: 31.2 ms\n",
      "Wall time: 59.4 ms\n"
     ]
    }
   ],
   "source": [
    "%%time\n",
    "# Sample grid\n",
    "grid = remove_newline_char(read_input_file(\"input.txt\"))\n",
    "\n",
    "rows = len(grid)\n",
    "cols = len(grid[0])\n",
    "visited = [[False for _ in range(cols)] for _ in range(rows)]\n",
    "regions = []\n",
    "\n",
    "for i in range(rows):\n",
    "    for j in range(cols):\n",
    "        if not visited[i][j]:\n",
    "            symbol = grid[i][j]\n",
    "            area, perimeter = bfs(grid, visited, i, j, symbol)\n",
    "            regions.append({'symbol': symbol, 'area': area, 'perimeter': perimeter})\n",
    "\n",
    "# Calculate the total cost\n",
    "totalCost = sum(region['area'] * region['perimeter'] for region in regions)\n",
    "print(f\"Total cost: {totalCost}\")\n",
    "\n",
    "# BFS ~ 40ms, DFS ~ 35ms"
   ]
  },
  {
   "cell_type": "markdown",
   "metadata": {},
   "source": [
    "## Part 2\n",
    "\n",
    "Instructions [here](https://adventofcode.com/2024/day/2#part2)\n",
    "\n",
    "Counting sides is equivalent to counting corners, thanks @BillyJay\n"
   ]
  },
  {
   "cell_type": "code",
   "execution_count": 23,
   "metadata": {},
   "outputs": [],
   "source": [
    "def direction_change(currentDir, nextDir):\n",
    "    return currentDir is not None and currentDir != nextDir\n",
    "\n",
    "def print_around_cell(grid, x, y):\n",
    "    # Check we are not out of bounds\n",
    "    if x-1 < 0 or x+2 >= len(grid) or y-1 < 0 or y+2 >= len(grid[0]):\n",
    "        return\n",
    "\n",
    "    for i in range(x - 1, x + 2):\n",
    "        for j in range(y - 1, y + 2):\n",
    "            print(grid[i][j], end=\" \")\n",
    "        print()\n",
    "    print()\n",
    "\n",
    "def bfs_corners(grid, visited, x, y, symbol):\n",
    "    queue = deque()\n",
    "    queue.append((x, y))\n",
    "    visited[x][y] = True  # Mark the starting cell as visited\n",
    "    area = 1\n",
    "    nbCorners = 0\n",
    "\n",
    "    # Directions: Up, Down, Left, Right\n",
    "    directions = [(-1, 0), (1, 0), (0, -1), (0, 1)]\n",
    "    currentDir = None\n",
    "\n",
    "    while queue:\n",
    "        cx, cy = queue.popleft()\n",
    "\n",
    "        for newDir, (dx, dy) in enumerate(directions):\n",
    "            nx, ny = cx + dx, cy + dy\n",
    "\n",
    "            if (0 <= nx < len(grid) and 0 <= ny < len(grid[0])):\n",
    "                if grid[nx][ny] == symbol:\n",
    "                    if not visited[nx][ny]:\n",
    "                        visited[nx][ny] = True\n",
    "                        queue.append((nx, ny))\n",
    "                        area += 1\n",
    "                else:\n",
    "                    # Neighboring cell is different\n",
    "                    if direction_change(currentDir, newDir):\n",
    "                        # print_around_cell(grid, nx, ny)\n",
    "                        nbCorners += 1\n",
    "                    currentDir = newDir\n",
    "            else:\n",
    "                # Edge of the grid\n",
    "                if direction_change(currentDir, newDir):\n",
    "                    # print_around_cell(grid, nx, ny)\n",
    "                    nbCorners += 1 \n",
    "                currentDir = newDir\n",
    "\n",
    "    return area, nbCorners"
   ]
  },
  {
   "cell_type": "code",
   "execution_count": 26,
   "metadata": {},
   "outputs": [
    {
     "name": "stdout",
     "output_type": "stream",
     "text": [
      "Total cost: 1696\n",
      "CPU times: total: 0 ns\n",
      "Wall time: 2.14 ms\n"
     ]
    }
   ],
   "source": [
    "%%time\n",
    "# Sample grid\n",
    "grid = remove_newline_char(read_input_file(\"demo.txt\"))\n",
    "\n",
    "rows = len(grid)\n",
    "cols = len(grid[0])\n",
    "visited = [[False for _ in range(cols)] for _ in range(rows)]\n",
    "regions = []\n",
    "\n",
    "for i in range(rows):\n",
    "    for j in range(cols):\n",
    "        if not visited[i][j]:\n",
    "            symbol = grid[i][j]\n",
    "            area, corners = bfs_corners(grid, visited, i, j, symbol)\n",
    "            regions.append({'symbol': symbol, 'area': area, 'corners': corners})\n",
    "\n",
    "# Calculate the total cost\n",
    "totalCost = sum(region['area'] * region['corners'] for region in regions)\n",
    "print(f\"Total cost: {totalCost}\")"
   ]
  }
 ],
 "metadata": {
  "kernelspec": {
   "display_name": "mess",
   "language": "python",
   "name": "python3"
  },
  "language_info": {
   "codemirror_mode": {
    "name": "ipython",
    "version": 3
   },
   "file_extension": ".py",
   "mimetype": "text/x-python",
   "name": "python",
   "nbconvert_exporter": "python",
   "pygments_lexer": "ipython3",
   "version": "3.10.0"
  }
 },
 "nbformat": 4,
 "nbformat_minor": 2
}
