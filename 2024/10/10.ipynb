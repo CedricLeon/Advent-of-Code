{
 "cells": [
  {
   "cell_type": "markdown",
   "metadata": {},
   "source": [
    "# Challenge 10/12/2024\n",
    "\n",
    "Challenge instructions [here](https://adventofcode.com/2024/day/10)\n",
    "\n",
    "## Highlights & Notes\n",
    "\n",
    "- Goal: Add the score of each trailhead\n",
    "  - Each trail is a chain of characters from 0 to 9, 0 is the trailhead and 9 the trailend\n",
    "- Method\n",
    "  - For each trailhead, recursively look around to see if a neighboring tile (no diagonal) is reachable - i.e., its `value` is `current+1`\n",
    "  - If yes, keep going until the trail end, then return the coordinates\n",
    "  - Store all the reachable trailend coordinates in a set (sometimes it's possible to reach a trailend via 2 paths, but it still counts for 1)\n",
    "\n",
    "For Part 2 I just manage a rating in a dictionnary being passed through th recursive function\n"
   ]
  },
  {
   "cell_type": "markdown",
   "metadata": {},
   "source": [
    "## Setup & Imports\n"
   ]
  },
  {
   "cell_type": "code",
   "execution_count": 1,
   "metadata": {},
   "outputs": [],
   "source": [
    "import numpy as np\n",
    "import sys\n",
    "import os\n",
    "\n",
    "# Get utility functions\n",
    "sys.path.append(os.path.abspath('../utils'))\n",
    "from utils import read_input_file, remove_newline_char, split_lines\n",
    "\n",
    "# Quick ANSI color code shortcuts\n",
    "r = \"\\033[31m\";y = \"\\033[33m\";g = \"\\033[32m\";b = \"\\033[34m\";e = \"\\033[0m\""
   ]
  },
  {
   "cell_type": "markdown",
   "metadata": {},
   "source": [
    "## Part 1\n"
   ]
  },
  {
   "cell_type": "code",
   "execution_count": 21,
   "metadata": {},
   "outputs": [
    {
     "name": "stdout",
     "output_type": "stream",
     "text": [
      "Number of trailheads: 285\n",
      "Parti 1: Total score: 659\n",
      "Parti 2: Total ratings: 1463\n"
     ]
    }
   ],
   "source": [
    "def read_map(filename):\n",
    "    lines = remove_newline_char(read_input_file(filename))\n",
    "    grid = []\n",
    "    for line in lines:\n",
    "        grid.append([int(height) for height in line])\n",
    "    return grid\n",
    "\n",
    "def find_all_trailheads(grid, gridDim):\n",
    "    trailheads = []\n",
    "    for i in range(gridDim[0]):\n",
    "        for j in range(gridDim[1]):\n",
    "            if grid[i][j] == 0:\n",
    "                trailheads.append((i, j))\n",
    "    return trailheads\n",
    "\n",
    "def is_on_map(gridDim, loc):\n",
    "    return 0 <= loc[0] < gridDim[0] and 0 <= loc[1] < gridDim[1]\n",
    "\n",
    "def find_reachable_trail_ends(grid, gridDim, loc, allEnds, ratings):\n",
    "    value = grid[loc[0]][loc[1]]\n",
    "    if value == 9:\n",
    "        if loc not in allEnds:\n",
    "            ratings[loc] = 0\n",
    "        allEnds.add(loc)\n",
    "        ratings[loc] +=1\n",
    "        return allEnds, ratings\n",
    "    # up\n",
    "    if is_on_map(gridDim, (loc[0]-1, loc[1])) and grid[loc[0]-1][loc[1]] == value+1:\n",
    "        find_reachable_trail_ends(grid, gridDim, (loc[0]-1, loc[1]), allEnds, ratings)\n",
    "    # down\n",
    "    if is_on_map(gridDim, (loc[0]+1, loc[1])) and grid[loc[0]+1][loc[1]] == value+1:\n",
    "        find_reachable_trail_ends(grid, gridDim, (loc[0]+1, loc[1]), allEnds, ratings)\n",
    "    # left\n",
    "    if is_on_map(gridDim, (loc[0], loc[1]-1)) and grid[loc[0]][loc[1]-1] == value+1:\n",
    "        find_reachable_trail_ends(grid, gridDim, (loc[0], loc[1]-1), allEnds, ratings)\n",
    "    # right\n",
    "    if is_on_map(gridDim, (loc[0], loc[1]+1)) and grid[loc[0]][loc[1]+1] == value+1:\n",
    "        find_reachable_trail_ends(grid, gridDim, (loc[0], loc[1]+1), allEnds, ratings)\n",
    "    return allEnds, ratings\n",
    "\n",
    "grid = read_map(\"input.txt\")\n",
    "gridDim = (len(grid), len(grid[0]))\n",
    "# print(grid)\n",
    "trailheads = find_all_trailheads(grid, gridDim)\n",
    "print(f\"Number of trailheads: {len(trailheads)}\")\n",
    "totalScore = 0\n",
    "totalRatings = 0\n",
    "for head in trailheads:\n",
    "    trailEnds = set()\n",
    "    ratings = {}\n",
    "    trailEnds, ratings = find_reachable_trail_ends(grid, gridDim, head, trailEnds, ratings)\n",
    "    totalRatings += sum(ratings.values())\n",
    "    totalScore += len(trailEnds)\n",
    "print(f\"Parti 1: Total score: {totalScore}\")\n",
    "print(f\"Parti 2: Total ratings: {totalRatings}\")"
   ]
  }
 ],
 "metadata": {
  "kernelspec": {
   "display_name": "mess",
   "language": "python",
   "name": "python3"
  },
  "language_info": {
   "codemirror_mode": {
    "name": "ipython",
    "version": 3
   },
   "file_extension": ".py",
   "mimetype": "text/x-python",
   "name": "python",
   "nbconvert_exporter": "python",
   "pygments_lexer": "ipython3",
   "version": "3.10.0"
  }
 },
 "nbformat": 4,
 "nbformat_minor": 2
}
