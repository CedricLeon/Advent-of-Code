{
 "cells": [
  {
   "cell_type": "markdown",
   "metadata": {},
   "source": [
    "# Challenge 06/12/2024\n",
    "\n",
    "Challenge instructions [here](https://adventofcode.com/2024/day/6)\n",
    "\n",
    "## Highlights & Notes\n",
    "\n",
    "- Goal: Determine a number of places where the guard is gonna go\n"
   ]
  },
  {
   "cell_type": "markdown",
   "metadata": {},
   "source": [
    "## Setup & Imports\n"
   ]
  },
  {
   "cell_type": "code",
   "execution_count": 1,
   "metadata": {},
   "outputs": [],
   "source": [
    "import numpy as np\n",
    "import sys\n",
    "import os\n",
    "import time\n",
    "\n",
    "# Get utility functions\n",
    "sys.path.append(os.path.abspath('../utils'))\n",
    "from utils import read_input_file, remove_newline_char, split_lines\n",
    "\n",
    "# Quick ANSI color code shortcuts\n",
    "r = \"\\033[31m\";y = \"\\033[33m\";g = \"\\033[32m\";b = \"\\033[34m\";e = \"\\033[0m\""
   ]
  },
  {
   "cell_type": "markdown",
   "metadata": {},
   "source": [
    "## Part 1\n"
   ]
  },
  {
   "cell_type": "code",
   "execution_count": 7,
   "metadata": {},
   "outputs": [
    {
     "name": "stdout",
     "output_type": "stream",
     "text": [
      "Initial guard position: (65, 85, '^')\n",
      "Number of distinct positions visited: 5030\n"
     ]
    }
   ],
   "source": [
    "def parse_input_as_2d_grid(file_name):\n",
    "    return np.array([list(x) for x in remove_newline_char(read_input_file(file_name))])\n",
    "\n",
    "def find_guard_pos_and_direction(map):\n",
    "    for i in range(len(map)):\n",
    "        for j in range(len(map[i])):\n",
    "            if map[i][j] in directions:\n",
    "                return (i, j, map[i][j])\n",
    "    raise Exception(\"No guard found in the map\")\n",
    "\n",
    "def is_obstacle(pos, grid):\n",
    "    row, col = pos\n",
    "    return grid[row][col] == '#'\n",
    "\n",
    "def turn_right(current_direction):\n",
    "    directions_order = ['^', '>', 'v', '<']\n",
    "    idx = directions_order.index(current_direction)\n",
    "    return directions_order[(idx + 1) % 4]\n",
    "\n",
    "def next_guard_move(current_pos, grid):\n",
    "    row, col, direction = current_pos\n",
    "    dr, dc = directions[direction]\n",
    "    next_row, next_col = row + dr, col + dc\n",
    "\n",
    "    # Check if next position is within grid boundaries\n",
    "    if 0 <= next_row < len(grid) and 0 <= next_col < len(grid[0]):\n",
    "        if is_obstacle((next_row, next_col), grid):\n",
    "            # Turn right and stay in the same position\n",
    "            new_direction = turn_right(direction)\n",
    "            return (row, col, new_direction)\n",
    "        else:\n",
    "            # Move forward\n",
    "            return (next_row, next_col, direction)\n",
    "    else:\n",
    "        # Move off the grid\n",
    "        return (next_row, next_col, direction)\n",
    "\n",
    "directions = {\n",
    "    \"^\": (-1, 0),\n",
    "    \">\": (0, 1),\n",
    "    \"v\": (1, 0),\n",
    "    \"<\": (0, -1)\n",
    "}\n",
    "\n",
    "grid = parse_input_as_2d_grid(\"input.txt\")\n",
    "startGuardPos = find_guard_pos_and_direction(grid)\n",
    "print(f\"Initial guard position: {startGuardPos}\")\n",
    "\n",
    "visitedLocations = set()\n",
    "guardPos = startGuardPos\n",
    "visitedLocations.add((guardPos[0], guardPos[1]))\n",
    "while True:\n",
    "    guardPos = next_guard_move(guardPos, grid)\n",
    "    row, col, direction = guardPos\n",
    "\n",
    "    # **Check if guard has moved off the grid**\n",
    "    if not (0 <= row < len(grid) and 0 <= col < len(grid[0])):\n",
    "        break  # Guard has left the mapped area\n",
    "\n",
    "    visitedLocations.add((row, col))\n",
    "    # print(f\"Guard position: {guardPos}\")\n",
    "    # time.sleep(0.5)\n",
    "\n",
    "print(f\"Number of distinct positions visited: {len(visitedLocations)}\")"
   ]
  },
  {
   "cell_type": "markdown",
   "metadata": {},
   "source": [
    "## Part 2\n",
    "\n",
    "Instructions [here](https://adventofcode.com/2024/day/6#part2)\n"
   ]
  },
  {
   "cell_type": "code",
   "execution_count": 8,
   "metadata": {},
   "outputs": [
    {
     "name": "stdout",
     "output_type": "stream",
     "text": [
      "Number of different positions where a new obstruction would cause a loop: 1928\n"
     ]
    }
   ],
   "source": [
    "# Part 2: Only consider obstruction positions from visited_locations\n",
    "possibleObsPos = [\n",
    "    (row, col)\n",
    "    for row, col in visitedLocations\n",
    "    if grid[row][col] == '.' and (row, col) != (startGuardPos[0], startGuardPos[1])\n",
    "]\n",
    "\n",
    "nbNewPossibleObs = 0\n",
    "\n",
    "for obsPos in possibleObsPos:\n",
    "    # Create a deep copy of the grid and add the obstruction\n",
    "    gridCopy = [row.copy() for row in grid]\n",
    "    gridCopy[obsPos[0]][obsPos[1]] = '#'\n",
    "    \n",
    "    # Initialize the guard's state\n",
    "    guardState = startGuardPos\n",
    "    visitedStates = set()\n",
    "    visitedStates.add(guardState)\n",
    "    \n",
    "    while True:\n",
    "        guardState = next_guard_move(guardState, gridCopy)\n",
    "        row, col, direction = guardState\n",
    "\n",
    "        # If guard has moved off the grid, no loop occurs\n",
    "        if not (0 <= row < len(gridCopy) and 0 <= col < len(gridCopy[0])):\n",
    "            break\n",
    "\n",
    "        if guardState in visitedStates:\n",
    "            # Loop detected\n",
    "            nbNewPossibleObs += 1\n",
    "            break\n",
    "        else:\n",
    "            visitedStates.add(guardState)\n",
    "\n",
    "print(f\"Number of different positions where a new obstruction would cause a loop: {nbNewPossibleObs}\")"
   ]
  }
 ],
 "metadata": {
  "kernelspec": {
   "display_name": "mess",
   "language": "python",
   "name": "python3"
  },
  "language_info": {
   "codemirror_mode": {
    "name": "ipython",
    "version": 3
   },
   "file_extension": ".py",
   "mimetype": "text/x-python",
   "name": "python",
   "nbconvert_exporter": "python",
   "pygments_lexer": "ipython3",
   "version": "3.10.0"
  }
 },
 "nbformat": 4,
 "nbformat_minor": 2
}
