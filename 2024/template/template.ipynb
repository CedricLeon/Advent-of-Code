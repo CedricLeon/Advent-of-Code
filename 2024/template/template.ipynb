{
 "cells": [
  {
   "cell_type": "markdown",
   "metadata": {},
   "source": [
    "# Challenge ???/12/2024\n",
    "\n",
    "Challenge instructions [here](https://adventofcode.com/2024/leaderboard/private)\n",
    "\n",
    "## Highlights & Notes\n",
    "\n",
    "- Goal:\n"
   ]
  },
  {
   "cell_type": "markdown",
   "metadata": {},
   "source": [
    "## Setup & Imports\n"
   ]
  },
  {
   "cell_type": "code",
   "execution_count": null,
   "metadata": {},
   "outputs": [],
   "source": [
    "import numpy as np\n",
    "import sys\n",
    "import os\n",
    "\n",
    "# Get utility functions\n",
    "sys.path.append(os.path.abspath('../utils'))\n",
    "from utils import read_input_file, remove_newline_char, split_lines\n",
    "\n",
    "# Quick ANSI color code shortcuts\n",
    "r = \"\\033[31m\";y = \"\\033[33m\";g = \"\\033[32m\";b = \"\\033[34m\";e = \"\\033[0m\""
   ]
  },
  {
   "cell_type": "markdown",
   "metadata": {},
   "source": [
    "## Part 1\n"
   ]
  },
  {
   "cell_type": "code",
   "execution_count": null,
   "metadata": {},
   "outputs": [],
   "source": [
    "def hello_world():\n",
    "    print(\"Hello, World!\")"
   ]
  },
  {
   "cell_type": "markdown",
   "metadata": {},
   "source": [
    "## Part 2\n",
    "\n",
    "Instructions [here]()\n"
   ]
  },
  {
   "cell_type": "code",
   "execution_count": null,
   "metadata": {},
   "outputs": [],
   "source": [
    "def world_hello():\n",
    "    print(\"World, Hello!\")"
   ]
  }
 ],
 "metadata": {
  "kernelspec": {
   "display_name": "mess",
   "language": "python",
   "name": "python3"
  },
  "language_info": {
   "name": "python",
   "version": "3.10.0"
  }
 },
 "nbformat": 4,
 "nbformat_minor": 2
}
