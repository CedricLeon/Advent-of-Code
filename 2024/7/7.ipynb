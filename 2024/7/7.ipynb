{
 "cells": [
  {
   "cell_type": "markdown",
   "metadata": {},
   "source": [
    "# Challenge 07/12/2024\n",
    "\n",
    "Challenge instructions [here](https://adventofcode.com/2024/day/7)\n",
    "\n",
    "## Highlights & Notes\n",
    "\n",
    "- Goal:\n"
   ]
  },
  {
   "cell_type": "markdown",
   "metadata": {},
   "source": [
    "## Setup & Imports\n"
   ]
  },
  {
   "cell_type": "code",
   "execution_count": 2,
   "metadata": {},
   "outputs": [],
   "source": [
    "import numpy as np\n",
    "import sys\n",
    "import os\n",
    "\n",
    "# Get utility functions\n",
    "sys.path.append(os.path.abspath('../utils'))\n",
    "from utils import read_input_file, remove_newline_char, split_lines\n",
    "\n",
    "# Quick ANSI color code shortcuts\n",
    "r = \"\\033[31m\";y = \"\\033[33m\";g = \"\\033[32m\";b = \"\\033[34m\";e = \"\\033[0m\""
   ]
  },
  {
   "cell_type": "markdown",
   "metadata": {},
   "source": [
    "## Part 1\n"
   ]
  },
  {
   "cell_type": "code",
   "execution_count": 18,
   "metadata": {},
   "outputs": [
    {
     "name": "stdout",
     "output_type": "stream",
     "text": [
      "True equations total: 12940396350192\n"
     ]
    }
   ],
   "source": [
    "def read_all_equations(filename):\n",
    "    lines = remove_newline_char(read_input_file(filename))\n",
    "    data = []\n",
    "    for line in lines:\n",
    "        testValue, allNumbers = line.split(\":\")\n",
    "        numbers = [int(x.strip()) for x in allNumbers.strip().split(\" \")]\n",
    "        data.append((int(testValue.strip()), numbers))\n",
    "    return data\n",
    "\n",
    "def evaluate_equation(testValue, tmpResult, numbers):\n",
    "    if len(numbers) == 0:\n",
    "        return testValue == tmpResult\n",
    "    return (evaluate_equation(testValue, tmpResult + numbers[0], numbers[1:]) or\n",
    "            evaluate_equation(testValue, tmpResult * numbers[0], numbers[1:]))\n",
    "\n",
    "data = read_all_equations(\"input.txt\")\n",
    "total = 0\n",
    "for testValue, numbers in data:\n",
    "    if evaluate_equation(testValue, numbers[0], numbers[1:]):\n",
    "        total += testValue\n",
    "\n",
    "print(f\"True equations total: {total}\")"
   ]
  },
  {
   "cell_type": "markdown",
   "metadata": {},
   "source": [
    "## Part 2\n",
    "\n",
    "Instructions [here](https://adventofcode.com/2024/day/7#part2)\n"
   ]
  },
  {
   "cell_type": "code",
   "execution_count": null,
   "metadata": {},
   "outputs": [
    {
     "name": "stdout",
     "output_type": "stream",
     "text": [
      "True equations total: 106016735664498\n"
     ]
    }
   ],
   "source": [
    "def concat(x1, x2):\n",
    "    return int(str(x1) + str(x2))\n",
    "\n",
    "def evaluate_equation(testValue, tmpResult, numbers):\n",
    "    if len(numbers) == 0:\n",
    "        return testValue == tmpResult\n",
    "    if testValue < tmpResult: # Saves 2s out of 6s\n",
    "        return False\n",
    "    return (evaluate_equation(testValue, tmpResult + numbers[0], numbers[1:]) or\n",
    "            evaluate_equation(testValue, tmpResult * numbers[0], numbers[1:]) or\n",
    "            evaluate_equation(testValue, concat(tmpResult, numbers[0]),  numbers[1:]))\n",
    "\n",
    "data = read_all_equations(\"input.txt\")\n",
    "total = 0\n",
    "for testValue, numbers in data:\n",
    "    if evaluate_equation(testValue, numbers[0], numbers[1:]):\n",
    "        total += testValue\n",
    "\n",
    "print(f\"True equations total: {total}\")"
   ]
  }
 ],
 "metadata": {
  "kernelspec": {
   "display_name": "mess",
   "language": "python",
   "name": "python3"
  },
  "language_info": {
   "codemirror_mode": {
    "name": "ipython",
    "version": 3
   },
   "file_extension": ".py",
   "mimetype": "text/x-python",
   "name": "python",
   "nbconvert_exporter": "python",
   "pygments_lexer": "ipython3",
   "version": "3.10.0"
  }
 },
 "nbformat": 4,
 "nbformat_minor": 2
}
