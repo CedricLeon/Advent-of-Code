{
 "cells": [
  {
   "cell_type": "markdown",
   "metadata": {},
   "source": [
    "# Challenge 11/12/2024\n",
    "\n",
    "Challenge instructions [here](https://adventofcode.com/2024/day/11)\n",
    "\n",
    "## Highlights & Notes\n",
    "\n",
    "- Goal: Find the length of a list of numbers after 25 iterations.\n",
    "- Rules: At each iteration each number in the list evolves:\n",
    "  - If the number is 0 => it becomes 1\n",
    "  - Elif the number has an even number of digits = > it divides in 2, left digits for the left digit and same for the right\n",
    "  - Else, the number gets multiplied by 2024\n"
   ]
  },
  {
   "cell_type": "markdown",
   "metadata": {},
   "source": [
    "## Setup & Imports\n"
   ]
  },
  {
   "cell_type": "code",
   "execution_count": 1,
   "metadata": {},
   "outputs": [],
   "source": [
    "import numpy as np\n",
    "import sys\n",
    "import os\n",
    "\n",
    "# Get utility functions\n",
    "sys.path.append(os.path.abspath('../utils'))\n",
    "from utils import read_input_file, remove_newline_char, split_lines\n",
    "\n",
    "# Quick ANSI color code shortcuts\n",
    "r = \"\\033[31m\";y = \"\\033[33m\";g = \"\\033[32m\";b = \"\\033[34m\";e = \"\\033[0m\""
   ]
  },
  {
   "cell_type": "markdown",
   "metadata": {},
   "source": [
    "## Part 1\n"
   ]
  },
  {
   "cell_type": "code",
   "execution_count": 11,
   "metadata": {},
   "outputs": [
    {
     "name": "stdout",
     "output_type": "stream",
     "text": [
      "[773, 79858, 0, 71, 213357, 2937, 1, 3998391]\n",
      "\u001b[34mIteration 0\u001b[0m: 8 items\n",
      "\u001b[34mIteration 1\u001b[0m: 11 items\n",
      "\u001b[34mIteration 2\u001b[0m: 15 items\n",
      "\u001b[34mIteration 3\u001b[0m: 23 items\n",
      "\u001b[34mIteration 4\u001b[0m: 33 items\n",
      "\u001b[34mIteration 5\u001b[0m: 50 items\n",
      "\u001b[34mIteration 6\u001b[0m: 86 items\n",
      "\u001b[34mIteration 7\u001b[0m: 120 items\n",
      "\u001b[34mIteration 8\u001b[0m: 153 items\n",
      "\u001b[34mIteration 9\u001b[0m: 243 items\n",
      "\u001b[34mIteration 10\u001b[0m: 393 items\n",
      "\u001b[34mIteration 11\u001b[0m: 589 items\n",
      "\u001b[34mIteration 12\u001b[0m: 857 items\n",
      "\u001b[34mIteration 13\u001b[0m: 1308 items\n",
      "\u001b[34mIteration 14\u001b[0m: 2009 items\n",
      "\u001b[34mIteration 15\u001b[0m: 3107 items\n",
      "\u001b[34mIteration 16\u001b[0m: 4650 items\n",
      "\u001b[34mIteration 17\u001b[0m: 7036 items\n",
      "\u001b[34mIteration 18\u001b[0m: 10620 items\n",
      "\u001b[34mIteration 19\u001b[0m: 15977 items\n",
      "\u001b[34mIteration 20\u001b[0m: 24809 items\n",
      "\u001b[34mIteration 21\u001b[0m: 37628 items\n",
      "\u001b[34mIteration 22\u001b[0m: 56628 items\n",
      "\u001b[34mIteration 23\u001b[0m: 85841 items\n",
      "\u001b[34mIteration 24\u001b[0m: 130500 items\n",
      "\u001b[34mIteration 25\u001b[0m: 199982 items\n"
     ]
    }
   ],
   "source": [
    "def number_has_even_nb_digits(number):\n",
    "    return len(str(number)) % 2 == 0\n",
    "\n",
    "def update_list(list):\n",
    "    skipNext = False\n",
    "    for i, item in enumerate(list):\n",
    "        if skipNext:\n",
    "            skipNext = False\n",
    "            continue\n",
    "\n",
    "        if item == 0:\n",
    "            list[i] = 1\n",
    "        elif number_has_even_nb_digits(item):\n",
    "            strItem = str(item)\n",
    "            leftItem = int(strItem[:len(strItem)//2])\n",
    "            rightItem = int(strItem[len(strItem)//2:])\n",
    "            list[i] = int(leftItem)\n",
    "            list.insert(i+1, int(rightItem))\n",
    "            skipNext = True\n",
    "            # print(f\"{y}Splitting {item} into {leftItem} and {rightItem}{e}\")\n",
    "        else:\n",
    "            list[i] = item * 2024\n",
    "    return list\n",
    "\n",
    "list = [int(item) for item in split_lines(read_input_file(\"input.txt\"), \" \")[0]]\n",
    "print(list)\n",
    "\n",
    "for i in range(26):\n",
    "    print(f\"{b}Iteration {i}{e}: {len(list)} items\")\n",
    "    list = update_list(list)"
   ]
  },
  {
   "cell_type": "markdown",
   "metadata": {},
   "source": [
    "## Part 2\n",
    "\n",
    "Instructions [here](https://adventofcode.com/2024/day/11#part2)\n",
    "\n",
    "Here we have to get the stone counts after 75 iterations ... brute force has failed me. I couldn't figure a solution by myself, I found a smart way [here](https://programming.dev/post/22710192).\n",
    "The main idea is that many stone shave the same number, and they will evolve similarly, so we just keep track of the number of each type of stones = > 35 ms instead of a billion year, smart\n"
   ]
  },
  {
   "cell_type": "code",
   "execution_count": 13,
   "metadata": {},
   "outputs": [
    {
     "name": "stdout",
     "output_type": "stream",
     "text": [
      "\u001b[32mPart 1: 199982\u001b[0m\n",
      "\u001b[32mPart 2: 237149922829154\u001b[0m\n"
     ]
    }
   ],
   "source": [
    "transform_cache = {}\n",
    "\n",
    "def transform(current_stone):\n",
    "    if current_stone == \"0\":\n",
    "        res = [\"1\"]\n",
    "    else:\n",
    "        length = len(current_stone)\n",
    "        if length % 2 == 0:\n",
    "            mid = length // 2\n",
    "            res = [str(int(current_stone[:mid])), str(int(current_stone[mid:]))]\n",
    "        else:\n",
    "            res = [str(int(current_stone) * 2024)]\n",
    "    transform_cache[current_stone] = res\n",
    "    return res\n",
    "\n",
    "def main(initial_stones):\n",
    "    stones_count = {}\n",
    "    for stone in initial_stones:\n",
    "        stones_count[stone] = stones_count.get(stone, 0) + 1\n",
    "    part1 = 0\n",
    "    for i in range(75):\n",
    "        new_stones_count = {}\n",
    "        for stone, count in stones_count.items():\n",
    "            for r in (transform_cache.get(stone) if stone in transform_cache else transform(stone)):\n",
    "                new_stones_count[r] = new_stones_count.get(r, 0) + count\n",
    "        stones_count = new_stones_count\n",
    "        if i == 24:\n",
    "            part1 = sum(stones_count.values())\n",
    "    return part1,sum(stones_count.values())\n",
    "\n",
    "list = split_lines(read_input_file(\"input.txt\"), \" \")[0]\n",
    "part1, part2 = main(list)\n",
    "\n",
    "print(f\"{g}Part 1: {part1}{e}\")\n",
    "print(f\"{g}Part 2: {part2}{e}\")\n"
   ]
  }
 ],
 "metadata": {
  "kernelspec": {
   "display_name": "mess",
   "language": "python",
   "name": "python3"
  },
  "language_info": {
   "codemirror_mode": {
    "name": "ipython",
    "version": 3
   },
   "file_extension": ".py",
   "mimetype": "text/x-python",
   "name": "python",
   "nbconvert_exporter": "python",
   "pygments_lexer": "ipython3",
   "version": "3.10.0"
  }
 },
 "nbformat": 4,
 "nbformat_minor": 2
}
